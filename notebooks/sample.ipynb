{
 "cells": [
  {
   "cell_type": "markdown",
   "id": "b8aacd02",
   "metadata": {},
   "source": [
    "# Sample Notebook\n"
   ]
  },
  {
   "cell_type": "markdown",
   "id": "bd7a649b",
   "metadata": {},
   "source": []
  }
 ],
 "metadata": {
  "language_info": {
   "name": "python"
  }
 },
 "nbformat": 4,
 "nbformat_minor": 5
}
